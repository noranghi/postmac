{
 "cells": [
  {
   "cell_type": "code",
   "execution_count": 1,
   "id": "6a1e73ac-d80f-4eb6-b7b0-ebc2f60cf016",
   "metadata": {},
   "outputs": [
    {
     "name": "stdout",
     "output_type": "stream",
     "text": [
      "Intel MKL WARNING: Support of Intel(R) Streaming SIMD Extensions 4.2 (Intel(R) SSE4.2) enabled only processors has been deprecated. Intel oneAPI Math Kernel Library 2025.0 will require Intel(R) Advanced Vector Extensions (Intel(R) AVX) instructions.\n",
      "Intel MKL WARNING: Support of Intel(R) Streaming SIMD Extensions 4.2 (Intel(R) SSE4.2) enabled only processors has been deprecated. Intel oneAPI Math Kernel Library 2025.0 will require Intel(R) Advanced Vector Extensions (Intel(R) AVX) instructions.\n"
     ]
    },
    {
     "ename": "ValueError",
     "evalue": "operands could not be broadcast together with shapes (1000,1000) (1000000,) (1000,1000) ",
     "output_type": "error",
     "traceback": [
      "\u001b[0;31m---------------------------------------------------------------------------\u001b[0m",
      "\u001b[0;31mValueError\u001b[0m                                Traceback (most recent call last)",
      "Cell \u001b[0;32mIn[1], line 39\u001b[0m\n\u001b[1;32m     36\u001b[0m num_base_stations \u001b[38;5;241m=\u001b[39m \u001b[38;5;241m10\u001b[39m\n\u001b[1;32m     37\u001b[0m area_size \u001b[38;5;241m=\u001b[39m (\u001b[38;5;241m100\u001b[39m, \u001b[38;5;241m100\u001b[39m)  \u001b[38;5;66;03m# 지역의 크기 (가로, 세로)\u001b[39;00m\n\u001b[0;32m---> 39\u001b[0m xx, yy, interference \u001b[38;5;241m=\u001b[39m \u001b[43mgenerate_interference_pdf\u001b[49m\u001b[43m(\u001b[49m\u001b[43mnum_base_stations\u001b[49m\u001b[43m,\u001b[49m\u001b[43m \u001b[49m\u001b[43marea_size\u001b[49m\u001b[43m)\u001b[49m\n\u001b[1;32m     40\u001b[0m plot_interference(xx, yy, interference)\n",
      "Cell \u001b[0;32mIn[1], line 19\u001b[0m, in \u001b[0;36mgenerate_interference_pdf\u001b[0;34m(num_base_stations, area_size)\u001b[0m\n\u001b[1;32m     17\u001b[0m \u001b[38;5;28;01mfor\u001b[39;00m station \u001b[38;5;129;01min\u001b[39;00m base_stations:\n\u001b[1;32m     18\u001b[0m     distances \u001b[38;5;241m=\u001b[39m np\u001b[38;5;241m.\u001b[39msqrt(np\u001b[38;5;241m.\u001b[39msum((grid_points \u001b[38;5;241m-\u001b[39m station)\u001b[38;5;241m*\u001b[39m\u001b[38;5;241m*\u001b[39m\u001b[38;5;241m2\u001b[39m, axis\u001b[38;5;241m=\u001b[39m\u001b[38;5;241m1\u001b[39m))\n\u001b[0;32m---> 19\u001b[0m     interference \u001b[38;5;241m+\u001b[39m\u001b[38;5;241m=\u001b[39m (\u001b[38;5;241m1\u001b[39m \u001b[38;5;241m/\u001b[39m (distances \u001b[38;5;241m+\u001b[39m \u001b[38;5;241m1\u001b[39m))  \u001b[38;5;66;03m# 거리에 따른 감쇠 모델링\u001b[39;00m\n\u001b[1;32m     21\u001b[0m \u001b[38;5;28;01mreturn\u001b[39;00m xx, yy, interference\n",
      "\u001b[0;31mValueError\u001b[0m: operands could not be broadcast together with shapes (1000,1000) (1000000,) (1000,1000) "
     ]
    }
   ],
   "source": [
    "import numpy as np\n",
    "import matplotlib.pyplot as plt\n",
    "\n",
    "def generate_interference_pdf(num_base_stations, area_size):\n",
    "    # 무작위로 기지국 위치 생성\n",
    "    base_stations = np.random.rand(num_base_stations, 2) * area_size\n",
    "\n",
    "    # 측정 지점 생성\n",
    "    resolution = 0.1\n",
    "    x = np.arange(0, area_size[0], resolution)\n",
    "    y = np.arange(0, area_size[1], resolution)\n",
    "    xx, yy = np.meshgrid(x, y)\n",
    "    grid_points = np.c_[xx.ravel(), yy.ravel()]\n",
    "\n",
    "    # 거리에 따른 감쇠 모델링\n",
    "    interference = np.zeros_like(xx)\n",
    "    for station in base_stations:\n",
    "        distances = np.sqrt(np.sum((grid_points - station)**2, axis=1))\n",
    "        interference += (1 / (distances + 1))  # 거리에 따른 감쇠 모델링\n",
    "\n",
    "    return xx, yy, interference\n",
    "\n",
    "def plot_interference(xx, yy, interference):\n",
    "    plt.figure(figsize=(8, 8))\n",
    "    plt.pcolormesh(xx, yy, interference, shading='auto', cmap='viridis')\n",
    "    plt.colorbar(label='Interference Level')\n",
    "    plt.scatter(base_stations[:, 0], base_stations[:, 1], c='red', marker='x', label='Base Stations')\n",
    "    plt.title('Interference PDF with Randomly Placed Base Stations')\n",
    "    plt.xlabel('X-coordinate')\n",
    "    plt.ylabel('Y-coordinate')\n",
    "    plt.legend()\n",
    "    plt.show()\n",
    "\n",
    "if __name__ == \"__main__\":\n",
    "    np.random.seed(42)  # 재현성을 위한 랜덤 시드 설정\n",
    "    num_base_stations = 10\n",
    "    area_size = (100, 100)  # 지역의 크기 (가로, 세로)\n",
    "\n",
    "    xx, yy, interference = generate_interference_pdf(num_base_stations, area_size)\n",
    "    plot_interference(xx, yy, interference)\n"
   ]
  },
  {
   "cell_type": "code",
   "execution_count": 45,
   "id": "b3f2f948-1b31-47a2-8539-35a4e0b1113a",
   "metadata": {},
   "outputs": [],
   "source": [
    "import numpy as np\n",
    "import matplotlib.pyplot as plt\n",
    "import math\n",
    "import random\n",
    "\n",
    "random.seed(100)\n",
    "\n",
    "#기지국 위치 생성, 거리 생성\n",
    "def BS_location(V, area_size):\n",
    "    location = []\n",
    "    distance = np.zeros((V, V))\n",
    "    \n",
    "    for i in range(V):\n",
    "        lx = random.uniform(1, area_size)\n",
    "        ly = random.uniform(1, area_size)\n",
    "        location.append([lx, ly])\n",
    "        \n",
    "    for i in range(V):\n",
    "        for j in range(i+1, V):\n",
    "            D = round(math.sqrt(math.pow(location[i][0] - location[j][0], 2) + math.pow(location[i][1] - location[j][1],2)), 2)\n",
    "            distance[i][j] = D\n",
    "            distance[j][i] = D\n",
    "    return location, distance\n",
    "\n",
    "\n",
    "\n",
    "\n",
    "    \n",
    "BS_location(4, 45)\n",
    "\n",
    "\n",
    "x = BS_location(4, 45)[1]\n",
    "\n"
   ]
  },
  {
   "cell_type": "code",
   "execution_count": 46,
   "id": "9419805a-c478-45b5-90d5-f938bfef975d",
   "metadata": {},
   "outputs": [],
   "source": [
    "#전력 생성\n",
    "random.seed(100)\n",
    "def power(V, min_ptx, max_ptx):\n",
    "    P_tx = []\n",
    "    for i in range(V):\n",
    "        px = random.randint(min_ptx, max_ptx)\n",
    "        P_tx.append(px)\n",
    "    return P_tx\n",
    "power(4, 40, 50)\n",
    "t = power(4, 40, 50)\n"
   ]
  },
  {
   "cell_type": "code",
   "execution_count": 47,
   "id": "5376a183-cb84-4cee-ab56-473e33b307fe",
   "metadata": {},
   "outputs": [
    {
     "data": {
      "text/plain": [
       "array([[ 0.  , 21.04, 38.51, 17.04],\n",
       "       [21.04,  0.  , 47.51, 13.6 ],\n",
       "       [38.51, 47.51,  0.  , 33.91],\n",
       "       [17.04, 13.6 , 33.91,  0.  ]])"
      ]
     },
     "execution_count": 47,
     "metadata": {},
     "output_type": "execute_result"
    }
   ],
   "source": [
    "x"
   ]
  },
  {
   "cell_type": "code",
   "execution_count": 50,
   "id": "606e06c1-94ea-4cad-ac69-5a607420458d",
   "metadata": {},
   "outputs": [
    {
     "data": {
      "text/plain": [
       "0.08857368031121249"
      ]
     },
     "execution_count": 50,
     "metadata": {},
     "output_type": "execute_result"
    }
   ],
   "source": [
    "a = ((x[0][1] - 1.5)**(-2)) * (t[1])\n",
    "b = ((x[0][1]+1.5)**(-2)) * (t[1])\n",
    "\n"
   ]
  },
  {
   "cell_type": "code",
   "execution_count": 52,
   "id": "f186a8d1-7302-4bfa-9a56-05d984ae3129",
   "metadata": {},
   "outputs": [],
   "source": [
    "import scipy.stats as stats"
   ]
  },
  {
   "cell_type": "code",
   "execution_count": null,
   "id": "ad3dd480-de89-498d-b8e4-3cbe21e82f35",
   "metadata": {},
   "outputs": [],
   "source": []
  }
 ],
 "metadata": {
  "kernelspec": {
   "display_name": "Python 3 (ipykernel)",
   "language": "python",
   "name": "python3"
  },
  "language_info": {
   "codemirror_mode": {
    "name": "ipython",
    "version": 3
   },
   "file_extension": ".py",
   "mimetype": "text/x-python",
   "name": "python",
   "nbconvert_exporter": "python",
   "pygments_lexer": "ipython3",
   "version": "3.10.13"
  }
 },
 "nbformat": 4,
 "nbformat_minor": 5
}
